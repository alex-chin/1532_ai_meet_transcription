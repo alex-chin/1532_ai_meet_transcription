{
 "cells": [
  {
   "cell_type": "code",
   "id": "initial_id",
   "metadata": {
    "collapsed": true,
    "jupyter": {
     "is_executing": true
    },
    "ExecuteTime": {
     "start_time": "2024-12-09T13:09:48.295597Z"
    }
   },
   "source": [
    "from fastapi import FastAPI, File, UploadFile\n",
    "# import whisper\n",
    "import os\n",
    "import nest_asyncio\n",
    "from pyngrok import ngrok\n",
    "from fastapi.responses import JSONResponse\n",
    "from fastapi.middleware.cors import CORSMiddleware\n",
    "import uvicorn\n",
    "\n",
    "# Инициализация FastAPI\n",
    "app = FastAPI()\n",
    "\n",
    "# Разрешаем запросы с других источников (для тестирования)\n",
    "app.add_middleware(\n",
    "    CORSMiddleware,\n",
    "    allow_origins=[\"*\"],\n",
    "    allow_credentials=True,\n",
    "    allow_methods=[\"*\"],\n",
    "    allow_headers=[\"*\"],\n",
    ")\n",
    "\n",
    "\n",
    "# Загрузка модели\n",
    "# model = whisper.load_model(\"base\")\n",
    "\n",
    "@app.post(\"/transcribe/\")\n",
    "def transcribe(file: UploadFile = File(...)):\n",
    "    try:\n",
    "        # Сохраняем загруженный файл\n",
    "        file_location = f\"temp_{file.filename}\"\n",
    "        with open(file_location, \"wb\") as f:\n",
    "            f.write(file.read())\n",
    "\n",
    "        # Преобразование аудио в текст\n",
    "        # result = model.transcribe(file_location)\n",
    "        result = 'lala'\n",
    "        # os.remove(file_location)\n",
    "\n",
    "        return {\"text\": result}\n",
    "    except Exception as e:\n",
    "        return JSONResponse(status_code=500, content={\"error\": str(e)})\n",
    "\n",
    "\n",
    "# Установим обработку событий в Colab\n",
    "nest_asyncio.apply()\n",
    "\n",
    "# Открываем ngrok-туннель\n",
    "public_url = ngrok.connect(8000)\n",
    "print(\"Public URL:\", public_url)\n",
    "\n",
    "# Запускаем сервер\n",
    "uvicorn.run(app, host=\"0.0.0.0\", port=8000)"
   ],
   "outputs": [
    {
     "name": "stderr",
     "output_type": "stream",
     "text": [
      "INFO:     Started server process [31944]\n",
      "INFO:     Waiting for application startup.\n",
      "INFO:     Application startup complete.\n",
      "INFO:     Uvicorn running on http://0.0.0.0:8000 (Press CTRL+C to quit)\n"
     ]
    },
    {
     "name": "stdout",
     "output_type": "stream",
     "text": [
      "Public URL: NgrokTunnel: \"https://359b-90-154-72-131.ngrok-free.app\" -> \"http://localhost:8000\"\n",
      "INFO:     127.0.0.1:60262 - \"POST /transcribe/ HTTP/1.1\" 500 Internal Server Error\n"
     ]
    },
    {
     "name": "stderr",
     "output_type": "stream",
     "text": [
      "C:\\Users\\k142\\AppData\\Local\\Temp\\ipykernel_31944\\420177316.py:32: RuntimeWarning: coroutine 'UploadFile.read' was never awaited\n",
      "  f.write(file.read())\n",
      "RuntimeWarning: Enable tracemalloc to get the object allocation traceback\n"
     ]
    }
   ],
   "execution_count": null
  },
  {
   "metadata": {},
   "cell_type": "code",
   "outputs": [],
   "execution_count": null,
   "source": "",
   "id": "742b42e3c23ea83d"
  }
 ],
 "metadata": {
  "kernelspec": {
   "display_name": "Python 3",
   "language": "python",
   "name": "python3"
  },
  "language_info": {
   "codemirror_mode": {
    "name": "ipython",
    "version": 2
   },
   "file_extension": ".py",
   "mimetype": "text/x-python",
   "name": "python",
   "nbconvert_exporter": "python",
   "pygments_lexer": "ipython2",
   "version": "2.7.6"
  }
 },
 "nbformat": 4,
 "nbformat_minor": 5
}
