{
 "cells": [
  {
   "cell_type": "code",
   "id": "8ecb752f044c9744",
   "metadata": {
    "ExecuteTime": {
     "end_time": "2024-12-09T12:01:13.841835Z",
     "start_time": "2024-12-09T12:01:13.215738Z"
    }
   },
   "source": [
    "from pathlib import Path\n",
    "import whisper\n",
    "\n",
    "# Загрузка модели Whisper\n",
    "model = whisper.load_model(\"base\")  # Можно использовать \"tiny\", \"base\", \"small\", \"medium\", \"large\""
   ],
   "outputs": [],
   "execution_count": 25
  },
  {
   "metadata": {
    "ExecuteTime": {
     "end_time": "2024-12-09T12:01:13.853920Z",
     "start_time": "2024-12-09T12:01:13.850807Z"
    }
   },
   "cell_type": "code",
   "source": [
    "file_test_list = ['alex_whisper.ogg', 'миша whisper.ogg', 'тро whisper.ogg']\n",
    "dir_test = Path('audio')"
   ],
   "id": "4d1eab70929970d9",
   "outputs": [],
   "execution_count": 26
  },
  {
   "metadata": {
    "ExecuteTime": {
     "end_time": "2024-12-09T12:01:43.827976Z",
     "start_time": "2024-12-09T12:01:15.914184Z"
    }
   },
   "cell_type": "code",
   "source": [
    "for file in file_test_list:\n",
    "    file_path_audio = dir_test / Path(file)\n",
    "    file_path_txt = dir_test / Path(file_path_audio.stem + '.txt')\n",
    "\n",
    "    print(30 * '=')\n",
    "    print('Исходный файл: ', file_path_audio)\n",
    "    print('Старт распознавания...')\n",
    "\n",
    "    text_buf = model.transcribe(str(file_path_audio.absolute()))\n",
    "    print('Запись файла: ', file_path_txt)\n",
    "    Path(file_path_txt).write_text(text_buf['text'], encoding='utf-8')\n",
    "    print('...done')\n"
   ],
   "id": "c9d2354b2dfcb99e",
   "outputs": [
    {
     "name": "stdout",
     "output_type": "stream",
     "text": [
      "==============================\n",
      "Исходный файл:  audio\\alex_whisper.ogg\n",
      "Старт распознавания...\n",
      "Запись файла:  audio\\alex_whisper.txt\n",
      "...done\n",
      "==============================\n",
      "Исходный файл:  audio\\миша whisper.ogg\n",
      "Старт распознавания...\n",
      "Запись файла:  audio\\миша whisper.txt\n",
      "...done\n",
      "==============================\n",
      "Исходный файл:  audio\\тро whisper.ogg\n",
      "Старт распознавания...\n",
      "Запись файла:  audio\\тро whisper.txt\n",
      "...done\n"
     ]
    }
   ],
   "execution_count": 27
  },
  {
   "metadata": {
    "ExecuteTime": {
     "end_time": "2024-12-09T12:06:43.934970Z",
     "start_time": "2024-12-09T12:06:43.931518Z"
    }
   },
   "cell_type": "code",
   "source": "from difflib import SequenceMatcher",
   "id": "c7b5339911f2d38c",
   "outputs": [],
   "execution_count": 28
  },
  {
   "metadata": {},
   "cell_type": "code",
   "source": [
    "path_original = dir_test / Path('test_orig.txt')\n",
    "original = path_original.read_text(encoding='utf-8')"
   ],
   "id": "a1debcbd53543ac4",
   "outputs": [],
   "execution_count": null
  },
  {
   "metadata": {
    "ExecuteTime": {
     "end_time": "2024-12-09T12:55:02.682874Z",
     "start_time": "2024-12-09T12:55:02.674717Z"
    }
   },
   "cell_type": "code",
   "source": [
    "print('Исходный файл :', path_original)\n",
    "for file in file_test_list:\n",
    "    path_variant = dir_test / Path(Path(file).stem + '.txt')\n",
    "    variant = path_variant.read_text(encoding='utf-8')\n",
    "    ratio = SequenceMatcher(None, original, variant).ratio()\n",
    "    print('Файл :', path_variant, ' Ratio :', 1 - ratio)"
   ],
   "id": "54298d1cdf80b66",
   "outputs": [
    {
     "name": "stdout",
     "output_type": "stream",
     "text": [
      "Файл : audio\\alex_whisper.txt  Ratio : 0.7203389830508475\n",
      "Файл : audio\\миша whisper.txt  Ratio : 0.7418755803156918\n",
      "Файл : audio\\тро whisper.txt  Ratio : 0.9307116104868913\n"
     ]
    }
   ],
   "execution_count": 44
  },
  {
   "metadata": {},
   "cell_type": "code",
   "outputs": [],
   "execution_count": null,
   "source": "",
   "id": "6dae3bab929dc1b5"
  }
 ],
 "metadata": {
  "kernelspec": {
   "display_name": "Python 3",
   "language": "python",
   "name": "python3"
  },
  "language_info": {
   "codemirror_mode": {
    "name": "ipython",
    "version": 2
   },
   "file_extension": ".py",
   "mimetype": "text/x-python",
   "name": "python",
   "nbconvert_exporter": "python",
   "pygments_lexer": "ipython2",
   "version": "2.7.6"
  }
 },
 "nbformat": 4,
 "nbformat_minor": 5
}
